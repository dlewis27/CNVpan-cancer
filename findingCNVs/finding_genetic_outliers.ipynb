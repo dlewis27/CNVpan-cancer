{
  "nbformat": 4,
  "nbformat_minor": 0,
  "metadata": {
    "colab": {
      "name": "finding_genetic_outliers.ipynb",
      "provenance": [],
      "toc_visible": true
    },
    "kernelspec": {
      "name": "python3",
      "display_name": "Python 3"
    }
  },
  "cells": [
    {
      "cell_type": "markdown",
      "metadata": {
        "id": "EuQofPDD2QUs",
        "colab_type": "text"
      },
      "source": [
        "# Finding Genetic Outliers in Copy Number Variation\n",
        "\n"
      ]
    },
    {
      "cell_type": "code",
      "metadata": {
        "id": "wNWVNal52C1u",
        "colab_type": "code",
        "outputId": "7214c586-6ecb-4874-d1f3-61fea7824162",
        "colab": {
          "base_uri": "https://localhost:8080/",
          "height": 646
        }
      },
      "source": [
        "# Install necessary packages\n",
        "!pip install cptac\n",
        "!pip install xlsxwriter"
      ],
      "execution_count": 1,
      "outputs": [
        {
          "output_type": "stream",
          "text": [
            "Collecting cptac\n",
            "\u001b[?25l  Downloading https://files.pythonhosted.org/packages/19/71/1db2ae1e64d165e3bd30643d3490e95780fd0d0306232c5a367d647495ab/cptac-0.7.5-py3-none-any.whl (5.0MB)\n",
            "\u001b[K     |████████████████████████████████| 5.0MB 4.3MB/s \n",
            "\u001b[?25hCollecting beautifulsoup4>=4.7.1\n",
            "\u001b[?25l  Downloading https://files.pythonhosted.org/packages/e8/b5/7bb03a696f2c9b7af792a8f51b82974e51c268f15e925fc834876a4efa0b/beautifulsoup4-4.9.0-py3-none-any.whl (109kB)\n",
            "\u001b[K     |████████████████████████████████| 112kB 38.6MB/s \n",
            "\u001b[?25hRequirement already satisfied: scipy>=1.2.1 in /usr/local/lib/python3.6/dist-packages (from cptac) (1.4.1)\n",
            "Collecting xlrd>=1.2.0\n",
            "\u001b[?25l  Downloading https://files.pythonhosted.org/packages/b0/16/63576a1a001752e34bf8ea62e367997530dc553b689356b9879339cf45a4/xlrd-1.2.0-py2.py3-none-any.whl (103kB)\n",
            "\u001b[K     |████████████████████████████████| 112kB 32.8MB/s \n",
            "\u001b[?25hRequirement already satisfied: numpy>=1.16.3 in /usr/local/lib/python3.6/dist-packages (from cptac) (1.18.2)\n",
            "Requirement already satisfied: pandas>=0.25.1 in /usr/local/lib/python3.6/dist-packages (from cptac) (1.0.3)\n",
            "Requirement already satisfied: packaging>=19.2 in /usr/local/lib/python3.6/dist-packages (from cptac) (20.3)\n",
            "Requirement already satisfied: urllib3>=1.24.2 in /usr/local/lib/python3.6/dist-packages (from cptac) (1.24.3)\n",
            "Requirement already satisfied: requests>=2.21.0 in /usr/local/lib/python3.6/dist-packages (from cptac) (2.21.0)\n",
            "Collecting soupsieve>1.2\n",
            "  Downloading https://files.pythonhosted.org/packages/05/cf/ea245e52f55823f19992447b008bcbb7f78efc5960d77f6c34b5b45b36dd/soupsieve-2.0-py2.py3-none-any.whl\n",
            "Requirement already satisfied: pytz>=2017.2 in /usr/local/lib/python3.6/dist-packages (from pandas>=0.25.1->cptac) (2018.9)\n",
            "Requirement already satisfied: python-dateutil>=2.6.1 in /usr/local/lib/python3.6/dist-packages (from pandas>=0.25.1->cptac) (2.8.1)\n",
            "Requirement already satisfied: six in /usr/local/lib/python3.6/dist-packages (from packaging>=19.2->cptac) (1.12.0)\n",
            "Requirement already satisfied: pyparsing>=2.0.2 in /usr/local/lib/python3.6/dist-packages (from packaging>=19.2->cptac) (2.4.7)\n",
            "Requirement already satisfied: certifi>=2017.4.17 in /usr/local/lib/python3.6/dist-packages (from requests>=2.21.0->cptac) (2020.4.5.1)\n",
            "Requirement already satisfied: chardet<3.1.0,>=3.0.2 in /usr/local/lib/python3.6/dist-packages (from requests>=2.21.0->cptac) (3.0.4)\n",
            "Requirement already satisfied: idna<2.9,>=2.5 in /usr/local/lib/python3.6/dist-packages (from requests>=2.21.0->cptac) (2.8)\n",
            "Installing collected packages: soupsieve, beautifulsoup4, xlrd, cptac\n",
            "  Found existing installation: beautifulsoup4 4.6.3\n",
            "    Uninstalling beautifulsoup4-4.6.3:\n",
            "      Successfully uninstalled beautifulsoup4-4.6.3\n",
            "  Found existing installation: xlrd 1.1.0\n",
            "    Uninstalling xlrd-1.1.0:\n",
            "      Successfully uninstalled xlrd-1.1.0\n",
            "Successfully installed beautifulsoup4-4.9.0 cptac-0.7.5 soupsieve-2.0 xlrd-1.2.0\n",
            "Collecting xlsxwriter\n",
            "\u001b[?25l  Downloading https://files.pythonhosted.org/packages/00/1f/2092a81056d36c1b6651a645aa84c1f76bcee03103072d4fe1cb58501d69/XlsxWriter-1.2.8-py2.py3-none-any.whl (141kB)\n",
            "\u001b[K     |████████████████████████████████| 143kB 4.8MB/s \n",
            "\u001b[?25hInstalling collected packages: xlsxwriter\n",
            "Successfully installed xlsxwriter-1.2.8\n"
          ],
          "name": "stdout"
        }
      ]
    },
    {
      "cell_type": "code",
      "metadata": {
        "id": "CFPI0JyP2zgW",
        "colab_type": "code",
        "outputId": "0a16afc5-88e4-45ea-9502-0327bb8339da",
        "colab": {
          "base_uri": "https://localhost:8080/",
          "height": 51
        }
      },
      "source": [
        "# Import necessary libraries\n",
        "import pandas as pd\n",
        "import matplotlib.pyplot as plt\n",
        "import seaborn as sns\n",
        "import numpy as np\n",
        "import xlsxwriter\n",
        "import cptac"
      ],
      "execution_count": 2,
      "outputs": [
        {
          "output_type": "stream",
          "text": [
            "/usr/local/lib/python3.6/dist-packages/statsmodels/tools/_testing.py:19: FutureWarning: pandas.util.testing is deprecated. Use the functions in the public API at pandas.testing instead.\n",
            "  import pandas.util.testing as tm\n"
          ],
          "name": "stderr"
        }
      ]
    },
    {
      "cell_type": "markdown",
      "metadata": {
        "id": "eG3VC2Hm3SuA",
        "colab_type": "text"
      },
      "source": [
        "## Download CNV data"
      ]
    },
    {
      "cell_type": "code",
      "metadata": {
        "id": "pM-v88VB3dGA",
        "colab_type": "code",
        "outputId": "27bf8646-3b1d-4127-91d0-5ac0e9bfc2fa",
        "colab": {
          "base_uri": "https://localhost:8080/",
          "height": 17
        }
      },
      "source": [
        "cptac.download(dataset=\"endometrial\")\n",
        "en = cptac.Endometrial()\n",
        "en_cnv = en.get_CNV()"
      ],
      "execution_count": 3,
      "outputs": [
        {
          "output_type": "stream",
          "text": [
            ""
          ],
          "name": "stdout"
        }
      ]
    },
    {
      "cell_type": "code",
      "metadata": {
        "id": "EKijlaOn3mEt",
        "colab_type": "code",
        "outputId": "d9a54c79-2296-45d1-a856-42385d7a4e31",
        "colab": {
          "base_uri": "https://localhost:8080/",
          "height": 54
        }
      },
      "source": [
        "cptac.download(dataset=\"gbm\")\n",
        "gbm = cptac.Gbm()\n",
        "gbm_cnv = gbm.get_CNV()"
      ],
      "execution_count": 4,
      "outputs": [
        {
          "output_type": "stream",
          "text": [
            ""
          ],
          "name": "stdout"
        },
        {
          "output_type": "stream",
          "text": [
            "cptac warning: The GBM dataset is under publication embargo until March 01, 2021. CPTAC is a community resource project and data are made available rapidly after generation for community research use. The embargo allows exploring and utilizing the data, but analysis may not be published until after the embargo date. Please see https://proteomics.cancer.gov/data-portal/about/data-use-agreement or enter cptac.embargo() to open the webpage for more details. (/usr/local/lib/python3.6/dist-packages/ipykernel_launcher.py, line 2)\n"
          ],
          "name": "stderr"
        }
      ]
    },
    {
      "cell_type": "code",
      "metadata": {
        "id": "cPV3Q-Oc3sdt",
        "colab_type": "code",
        "outputId": "03cea21e-d627-4d5e-bffa-7abb73c58a59",
        "colab": {
          "base_uri": "https://localhost:8080/",
          "height": 17
        }
      },
      "source": [
        "cptac.download(dataset=\"brca\")\n",
        "brca = cptac.Brca()\n",
        "brca_cnv = brca.get_CNV()"
      ],
      "execution_count": 5,
      "outputs": [
        {
          "output_type": "stream",
          "text": [
            ""
          ],
          "name": "stdout"
        }
      ]
    },
    {
      "cell_type": "code",
      "metadata": {
        "id": "P5uxDYNP30qT",
        "colab_type": "code",
        "outputId": "a31b9967-57fa-4076-adac-a383a1d2ad85",
        "colab": {
          "base_uri": "https://localhost:8080/",
          "height": 34
        }
      },
      "source": [
        "cptac.download(dataset=\"hnscc\")\n",
        "hnscc = cptac.Hnscc()\n",
        "hnscc_cnv = hnscc.get_CNV()"
      ],
      "execution_count": 6,
      "outputs": [
        {
          "output_type": "stream",
          "text": [
            "Password for hnscc dataset: ··········\n"
          ],
          "name": "stdout"
        }
      ]
    },
    {
      "cell_type": "code",
      "metadata": {
        "id": "Dt-9Cz6X33br",
        "colab_type": "code",
        "outputId": "7122579e-65f7-47e0-e300-faf986a9c1bf",
        "colab": {
          "base_uri": "https://localhost:8080/",
          "height": 54
        }
      },
      "source": [
        "cptac.download(dataset=\"luad\")\n",
        "luad = cptac.Luad()\n",
        "luad_cnv = luad.get_CNV()"
      ],
      "execution_count": 7,
      "outputs": [
        {
          "output_type": "stream",
          "text": [
            ""
          ],
          "name": "stdout"
        },
        {
          "output_type": "stream",
          "text": [
            "cptac warning: The LUAD dataset is under publication embargo until July 01, 2020. CPTAC is a community resource project and data are made available rapidly after generation for community research use. The embargo allows exploring and utilizing the data, but analysis may not be published until after the embargo date. Please see https://proteomics.cancer.gov/data-portal/about/data-use-agreement or enter cptac.embargo() to open the webpage for more details. (/usr/local/lib/python3.6/dist-packages/ipykernel_launcher.py, line 2)\n"
          ],
          "name": "stderr"
        }
      ]
    },
    {
      "cell_type": "code",
      "metadata": {
        "id": "v8SMKZZT369s",
        "colab_type": "code",
        "outputId": "7405d85d-8478-4a18-ad31-b2998bf2dbed",
        "colab": {
          "base_uri": "https://localhost:8080/",
          "height": 17
        }
      },
      "source": [
        "cptac.download(dataset=\"ovarian\")\n",
        "ovarian = cptac.Ovarian()\n",
        "ovarian_cnv = ovarian.get_CNV()"
      ],
      "execution_count": 8,
      "outputs": [
        {
          "output_type": "stream",
          "text": [
            ""
          ],
          "name": "stdout"
        }
      ]
    },
    {
      "cell_type": "code",
      "metadata": {
        "id": "ymBKXtH339so",
        "colab_type": "code",
        "outputId": "cadba043-6040-4c3b-8372-4ab9095c0d7e",
        "colab": {
          "base_uri": "https://localhost:8080/",
          "height": 17
        }
      },
      "source": [
        "cptac.download(dataset=\"ccrcc\")\n",
        "ccrcc = cptac.Ccrcc()\n",
        "ccrcc_cnv = ccrcc.get_CNV()"
      ],
      "execution_count": 9,
      "outputs": [
        {
          "output_type": "stream",
          "text": [
            ""
          ],
          "name": "stdout"
        }
      ]
    },
    {
      "cell_type": "markdown",
      "metadata": {
        "id": "oDd8ft-44Hfb",
        "colab_type": "text"
      },
      "source": [
        "## Number of Patients with Sig Copy Number Variants per gene per cancer type"
      ]
    },
    {
      "cell_type": "code",
      "metadata": {
        "id": "sYpf5PcA5HAm",
        "colab_type": "code",
        "colab": {}
      },
      "source": [
        "def separate(hiCut, lowCut, data):\n",
        "  \"\"\"\n",
        "  Counts the Number of patients with high and low value for each gene.\n",
        "  \"\"\"\n",
        "  sepDict = dict()\n",
        "  for column in data:\n",
        "    numHi = 0\n",
        "    numLow = 0\n",
        "    numNeu = 0\n",
        "    for i in data[column]:\n",
        "      if i > hiCut:\n",
        "        numHi += 1\n",
        "      elif i < lowCut:\n",
        "        numLow += 1\n",
        "      else:\n",
        "        numNeu += 1 \n",
        "    sepDict[column] = [numHi, numNeu, numLow]\n",
        "  return sepDict"
      ],
      "execution_count": 0,
      "outputs": []
    },
    {
      "cell_type": "code",
      "metadata": {
        "id": "uYcVNNrp5oRs",
        "colab_type": "code",
        "colab": {}
      },
      "source": [
        "def get_counts_and_average(data):\n",
        "  \"\"\"\n",
        "  Takes a CNV dataframe and generates a dataframe with the counts of high, low and neutral values\n",
        "  \"\"\"\n",
        "  df = pd.DataFrame(data = separate(.3,-.2,data), index = [\"high\", \"neutral\", \"low\"])\n",
        "  df = df.append(pd.DataFrame(data.mean(0), columns=['average']).transpose(), sort=True)\n",
        "  return df"
      ],
      "execution_count": 0,
      "outputs": []
    },
    {
      "cell_type": "code",
      "metadata": {
        "id": "m6fU44kP6Htk",
        "colab_type": "code",
        "colab": {}
      },
      "source": [
        "en_counts = get_counts_and_average(en_cnv)\n",
        "gbm_counts = get_counts_and_average(gbm_cnv)\n",
        "brca_counts = get_counts_and_average(brca_cnv)\n",
        "hnscc_counts = get_counts_and_average(hnscc_cnv)\n",
        "luad_counts = get_counts_and_average(luad_cnv)\n",
        "ovarian_counts = get_counts_and_average(ovarian_cnv)\n",
        "ccrcc_counts = get_counts_and_average(ccrcc_cnv)"
      ],
      "execution_count": 0,
      "outputs": []
    },
    {
      "cell_type": "code",
      "metadata": {
        "id": "e_XesLSN66By",
        "colab_type": "code",
        "colab": {}
      },
      "source": [
        "# Save the BRCA dataframe for Figure 1"
      ],
      "execution_count": 0,
      "outputs": []
    },
    {
      "cell_type": "code",
      "metadata": {
        "id": "t4SDaRl87SN-",
        "colab_type": "code",
        "colab": {}
      },
      "source": [
        "brca_counts.to_csv('brca_counts.csv')"
      ],
      "execution_count": 0,
      "outputs": []
    },
    {
      "cell_type": "markdown",
      "metadata": {
        "id": "5ZTbATFO72X0",
        "colab_type": "text"
      },
      "source": [
        "## Finding Significant Genes in Each Cancer Type"
      ]
    },
    {
      "cell_type": "code",
      "metadata": {
        "id": "8Z3Djov676QZ",
        "colab_type": "code",
        "colab": {}
      },
      "source": [
        "def get_sig_genes(data):\n",
        "  q25, q75 = np.quantile(data['high'], [0.25, 0.75])\n",
        "  average_up = q75 + ((q75 - q25) * 1.5 )\n",
        "  data_up = data['high'] > average_up\n",
        "  return average_up, data[data_up]"
      ],
      "execution_count": 0,
      "outputs": []
    },
    {
      "cell_type": "code",
      "metadata": {
        "id": "9o0L1X7v8yET",
        "colab_type": "code",
        "colab": {}
      },
      "source": [
        "en_sig_genes_cutoff, en_sig_genes = get_sig_genes(en_counts.transpose())\n",
        "gbm_sig_genes_cutoff, gbm_sig_genes = get_sig_genes(gbm_counts.transpose())\n",
        "brca_sig_genes_cutoff, brca_sig_genes = get_sig_genes(brca_counts.transpose())\n",
        "hnscc_sig_genes_cutoff, hnscc_sig_genes = get_sig_genes(hnscc_counts.transpose())\n",
        "luad_sig_genes_cutoff, luad_sig_genes = get_sig_genes(luad_counts.transpose())\n",
        "ovarian_sig_genes_cutoff, ovarian_sig_genes = get_sig_genes(ovarian_counts.transpose())\n",
        "ccrcc_sig_genes_cutoff, ccrcc_sig_genes = get_sig_genes(ccrcc_counts.transpose())"
      ],
      "execution_count": 0,
      "outputs": []
    },
    {
      "cell_type": "code",
      "metadata": {
        "id": "P_Bq3zsNIjln",
        "colab_type": "code",
        "colab": {
          "base_uri": "https://localhost:8080/",
          "height": 34
        },
        "outputId": "295d9d9e-e37a-4caa-e456-25387bf54dfc"
      },
      "source": [
        "print(brca_sig_genes_cutoff)"
      ],
      "execution_count": 18,
      "outputs": [
        {
          "output_type": "stream",
          "text": [
            "41.0\n"
          ],
          "name": "stdout"
        }
      ]
    },
    {
      "cell_type": "code",
      "metadata": {
        "id": "UifDpJ2G958n",
        "colab_type": "code",
        "colab": {}
      },
      "source": [
        "# Create Cutoff DataFrame\n",
        "cutoff = pd.DataFrame(data={'ENDO': en_sig_genes_cutoff,\n",
        "             'GBM': [gbm_sig_genes_cutoff],\n",
        "             'BRCA': [brca_sig_genes_cutoff],\n",
        "             'HNSCC': [hnscc_sig_genes_cutoff],\n",
        "             'LUAD': [luad_sig_genes_cutoff],\n",
        "             'OVARIAN': [ovarian_sig_genes_cutoff],\n",
        "             'CCRCC': [ccrcc_sig_genes_cutoff]})\n",
        "cutoff.to_csv('cutoffs.csv')"
      ],
      "execution_count": 0,
      "outputs": []
    },
    {
      "cell_type": "code",
      "metadata": {
        "id": "Y5hKzhBM-ljY",
        "colab_type": "code",
        "colab": {}
      },
      "source": [
        "# Create DataFrame of Sig Gene Lists\n",
        "sig_genes_by_cancer = pd.concat([pd.DataFrame({'ENDO': list(en_sig_genes.index)}),\n",
        "             pd.DataFrame({'GBM': list(gbm_sig_genes.index)}),\n",
        "             pd.DataFrame({'BRCA': list(brca_sig_genes.index.get_level_values(0))}),\n",
        "             pd.DataFrame({'HNSCC': list(hnscc_sig_genes.index)}),\n",
        "             pd.DataFrame({'LUAD': list(luad_sig_genes.index)}),\n",
        "             pd.DataFrame({'OVARIAN': list(ovarian_sig_genes.index)}),\n",
        "             pd.DataFrame({'CCRCC': list(ccrcc_sig_genes.index.get_level_values(0))})], axis=1)\n",
        "sig_genes_by_cancer.to_csv(\"sig_genes_by_cancer.csv\")"
      ],
      "execution_count": 0,
      "outputs": []
    },
    {
      "cell_type": "markdown",
      "metadata": {
        "id": "t92FEFWk_5kT",
        "colab_type": "text"
      },
      "source": [
        "## Finding Common Sig Genes"
      ]
    },
    {
      "cell_type": "code",
      "metadata": {
        "id": "_CSbkmDZ_-V3",
        "colab_type": "code",
        "colab": {}
      },
      "source": [
        "def CountFrequency(my_list): \n",
        "  \"\"\"\n",
        "  Counts the frequency of the gene in the given list.\n",
        "  Returns a list of genes that appeared 3 or more times.\n",
        "  \"\"\"\n",
        "  freq = {} \n",
        "  for items in my_list: \n",
        "      freq[items] = my_list.count(items) \n",
        "  sig = []\n",
        "  for key, value in freq.items(): \n",
        "    if value > 3:\n",
        "      sig.append(key)\n",
        "  return sig"
      ],
      "execution_count": 0,
      "outputs": []
    },
    {
      "cell_type": "code",
      "metadata": {
        "id": "4uAE_9rEAfCz",
        "colab_type": "code",
        "colab": {}
      },
      "source": [
        "sig_genes = CountFrequency(list(gbm_sig_genes.index) + list(hnscc_sig_genes.index) + list(luad_sig_genes.index) + list(ovarian_sig_genes.index) + list(ccrcc_sig_genes.index.get_level_values(0)) + list(brca_sig_genes.index.get_level_values(0)) + list(en_sig_genes.index))"
      ],
      "execution_count": 0,
      "outputs": []
    },
    {
      "cell_type": "code",
      "metadata": {
        "id": "XnqGt4sWECcz",
        "colab_type": "code",
        "colab": {}
      },
      "source": [
        "sig_genes_df = pd.DataFrame(data={'gene': sig_genes})\n",
        "sig_genes_df.to_csv(\"sig_genes.csv\")"
      ],
      "execution_count": 0,
      "outputs": []
    }
  ]
}