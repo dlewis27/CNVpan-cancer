{
  "nbformat": 4,
  "nbformat_minor": 0,
  "metadata": {
    "colab": {
      "name": "GSEA.ipynb",
      "provenance": []
    },
    "kernelspec": {
      "name": "python3",
      "display_name": "Python 3"
    }
  },
  "cells": [
    {
      "cell_type": "markdown",
      "metadata": {
        "id": "V39XIrz2CZhH",
        "colab_type": "text"
      },
      "source": [
        "# Gene Set Enrichment Analysis"
      ]
    },
    {
      "cell_type": "code",
      "metadata": {
        "id": "1K06s48wFIPF",
        "colab_type": "code",
        "outputId": "4dd15414-6aee-4a25-cca1-1f96497e1a37",
        "colab": {
          "base_uri": "https://localhost:8080/",
          "height": 1000
        }
      },
      "source": [
        "!pip install beautifulsoup4\n",
        "!pip install requests\n",
        "!pip install bioservices\n",
        "!pip install gseapy"
      ],
      "execution_count": 0,
      "outputs": [
        {
          "output_type": "stream",
          "text": [
            "Requirement already satisfied: beautifulsoup4 in /usr/local/lib/python3.6/dist-packages (4.6.3)\n",
            "Requirement already satisfied: requests in /usr/local/lib/python3.6/dist-packages (2.21.0)\n",
            "Requirement already satisfied: urllib3<1.25,>=1.21.1 in /usr/local/lib/python3.6/dist-packages (from requests) (1.24.3)\n",
            "Requirement already satisfied: chardet<3.1.0,>=3.0.2 in /usr/local/lib/python3.6/dist-packages (from requests) (3.0.4)\n",
            "Requirement already satisfied: certifi>=2017.4.17 in /usr/local/lib/python3.6/dist-packages (from requests) (2019.11.28)\n",
            "Requirement already satisfied: idna<2.9,>=2.5 in /usr/local/lib/python3.6/dist-packages (from requests) (2.8)\n",
            "Collecting bioservices\n",
            "\u001b[?25l  Downloading https://files.pythonhosted.org/packages/a3/e0/20f2f5cdecb36aa888dd79964949d64d86cd67902f733935113f194a790f/bioservices-1.7.4.tar.gz (212kB)\n",
            "\u001b[K     |████████████████████████████████| 215kB 1.4MB/s \n",
            "\u001b[?25hCollecting grequests\n",
            "  Downloading https://files.pythonhosted.org/packages/ed/4c/926fe81584bb9139511ec6490a924362dcc49d3d33a7fa20a7dc6515c266/grequests-0.6.0-py3-none-any.whl\n",
            "Requirement already satisfied: requests in /usr/local/lib/python3.6/dist-packages (from bioservices) (2.21.0)\n",
            "Collecting requests_cache\n",
            "  Downloading https://files.pythonhosted.org/packages/7f/55/9b1c40eb83c16d8fc79c5f6c2ffade04208b080670fbfc35e0a5effb5a92/requests_cache-0.5.2-py2.py3-none-any.whl\n",
            "Collecting easydev>=0.9.36\n",
            "\u001b[?25l  Downloading https://files.pythonhosted.org/packages/e3/cf/1fe481564e7e9bbd7f65026be2b8b2d3a013022ef666c56ebc0fa875d3cc/easydev-0.9.38.tar.gz (53kB)\n",
            "\u001b[K     |████████████████████████████████| 61kB 4.0MB/s \n",
            "\u001b[?25hRequirement already satisfied: beautifulsoup4 in /usr/local/lib/python3.6/dist-packages (from bioservices) (4.6.3)\n",
            "Collecting xmltodict\n",
            "  Downloading https://files.pythonhosted.org/packages/28/fd/30d5c1d3ac29ce229f6bdc40bbc20b28f716e8b363140c26eff19122d8a5/xmltodict-0.12.0-py2.py3-none-any.whl\n",
            "Requirement already satisfied: lxml in /usr/local/lib/python3.6/dist-packages (from bioservices) (4.2.6)\n",
            "Collecting suds-jurko\n",
            "\u001b[?25l  Downloading https://files.pythonhosted.org/packages/bd/6f/54fbf0999a606680d27c69b1ad12dfff62768ecb9fe48524cebda6eb4423/suds-jurko-0.6.tar.bz2 (143kB)\n",
            "\u001b[K     |████████████████████████████████| 153kB 4.2MB/s \n",
            "\u001b[?25hCollecting appdirs\n",
            "  Downloading https://files.pythonhosted.org/packages/56/eb/810e700ed1349edde4cbdc1b2a21e28cdf115f9faf263f6bbf8447c1abf3/appdirs-1.4.3-py2.py3-none-any.whl\n",
            "Requirement already satisfied: wrapt in /usr/local/lib/python3.6/dist-packages (from bioservices) (1.12.1)\n",
            "Requirement already satisfied: pandas in /usr/local/lib/python3.6/dist-packages (from bioservices) (1.0.3)\n",
            "Collecting colorlog\n",
            "  Downloading https://files.pythonhosted.org/packages/00/0d/22c73c2eccb21dd3498df7d22c0b1d4a30f5a5fb3feb64e1ce06bc247747/colorlog-4.1.0-py2.py3-none-any.whl\n",
            "Collecting gevent\n",
            "\u001b[?25l  Downloading https://files.pythonhosted.org/packages/f2/ca/5b5962361ed832847b6b2f9a2d0452c8c2f29a93baef850bb8ad067c7bf9/gevent-1.4.0-cp36-cp36m-manylinux1_x86_64.whl (5.5MB)\n",
            "\u001b[K     |████████████████████████████████| 5.5MB 5.6MB/s \n",
            "\u001b[?25hRequirement already satisfied: urllib3<1.25,>=1.21.1 in /usr/local/lib/python3.6/dist-packages (from requests->bioservices) (1.24.3)\n",
            "Requirement already satisfied: certifi>=2017.4.17 in /usr/local/lib/python3.6/dist-packages (from requests->bioservices) (2019.11.28)\n",
            "Requirement already satisfied: idna<2.9,>=2.5 in /usr/local/lib/python3.6/dist-packages (from requests->bioservices) (2.8)\n",
            "Requirement already satisfied: chardet<3.1.0,>=3.0.2 in /usr/local/lib/python3.6/dist-packages (from requests->bioservices) (3.0.4)\n",
            "Collecting colorama\n",
            "  Downloading https://files.pythonhosted.org/packages/c9/dc/45cdef1b4d119eb96316b3117e6d5708a08029992b2fee2c143c7a0a5cc5/colorama-0.4.3-py2.py3-none-any.whl\n",
            "Requirement already satisfied: pexpect in /usr/local/lib/python3.6/dist-packages (from easydev>=0.9.36->bioservices) (4.8.0)\n",
            "Requirement already satisfied: pytz>=2017.2 in /usr/local/lib/python3.6/dist-packages (from pandas->bioservices) (2018.9)\n",
            "Requirement already satisfied: python-dateutil>=2.6.1 in /usr/local/lib/python3.6/dist-packages (from pandas->bioservices) (2.8.1)\n",
            "Requirement already satisfied: numpy>=1.13.3 in /usr/local/lib/python3.6/dist-packages (from pandas->bioservices) (1.18.2)\n",
            "Collecting greenlet>=0.4.14; platform_python_implementation == \"CPython\"\n",
            "\u001b[?25l  Downloading https://files.pythonhosted.org/packages/bf/45/142141aa47e01a5779f0fa5a53b81f8379ce8f2b1cd13df7d2f1d751ae42/greenlet-0.4.15-cp36-cp36m-manylinux1_x86_64.whl (41kB)\n",
            "\u001b[K     |████████████████████████████████| 51kB 6.6MB/s \n",
            "\u001b[?25hRequirement already satisfied: ptyprocess>=0.5 in /usr/local/lib/python3.6/dist-packages (from pexpect->easydev>=0.9.36->bioservices) (0.6.0)\n",
            "Requirement already satisfied: six>=1.5 in /usr/local/lib/python3.6/dist-packages (from python-dateutil>=2.6.1->pandas->bioservices) (1.12.0)\n",
            "Building wheels for collected packages: bioservices, easydev, suds-jurko\n",
            "  Building wheel for bioservices (setup.py) ... \u001b[?25l\u001b[?25hdone\n",
            "  Created wheel for bioservices: filename=bioservices-1.7.4-cp36-none-any.whl size=218907 sha256=1afbded884b643290a77131e198b358de3e1efb02f88c0a7dd360f8cf24ebdb0\n",
            "  Stored in directory: /root/.cache/pip/wheels/ca/b9/e9/51a32c2cbaa43565ace5090261e29a8237b902995f1a2d0985\n",
            "  Building wheel for easydev (setup.py) ... \u001b[?25l\u001b[?25hdone\n",
            "  Created wheel for easydev: filename=easydev-0.9.38-cp36-none-any.whl size=72215 sha256=5204aa50258ead058de473bf06228665f809aa36c7af949bcb4937f10bf06481\n",
            "  Stored in directory: /root/.cache/pip/wheels/38/93/b7/c4ee5cf6eb4011f7db6467465fe2fb280bbb224a61400bd8a6\n",
            "  Building wheel for suds-jurko (setup.py) ... \u001b[?25l\u001b[?25hdone\n",
            "  Created wheel for suds-jurko: filename=suds_jurko-0.6-cp36-none-any.whl size=454758 sha256=9d5e7f2d87f4295e5d8d251e236a91c3cd107fd998c0c29e38ca1090f876d3fd\n",
            "  Stored in directory: /root/.cache/pip/wheels/12/68/53/d3902c054e32115da1d45bac442a547a071a86a65db4d77027\n",
            "Successfully built bioservices easydev suds-jurko\n",
            "Installing collected packages: greenlet, gevent, grequests, requests-cache, colorama, colorlog, easydev, xmltodict, suds-jurko, appdirs, bioservices\n",
            "Successfully installed appdirs-1.4.3 bioservices-1.7.4 colorama-0.4.3 colorlog-4.1.0 easydev-0.9.38 gevent-1.4.0 greenlet-0.4.15 grequests-0.6.0 requests-cache-0.5.2 suds-jurko-0.6 xmltodict-0.12.0\n"
          ],
          "name": "stdout"
        }
      ]
    },
    {
      "cell_type": "code",
      "metadata": {
        "id": "ipB29igF9Tsw",
        "colab_type": "code",
        "outputId": "cba12d9b-8ddc-4732-f5d1-05beb8295208",
        "colab": {
          "base_uri": "https://localhost:8080/",
          "height": 35
        }
      },
      "source": [
        "import requests\n",
        "import bioservices\n",
        "import numpy\n",
        "import pandas as pd\n",
        "import matplotlib.pyplot as plt\n",
        "import numpy as np\n",
        "from scipy import stats\n",
        "import gseapy as gp\n",
        "from gseapy.plot import barplot, dotplot\n",
        "from bs4 import BeautifulSoup"
      ],
      "execution_count": 0,
      "outputs": [
        {
          "output_type": "stream",
          "text": [
            "Creating directory /root/.config/bioservices \n"
          ],
          "name": "stdout"
        }
      ]
    },
    {
      "cell_type": "code",
      "metadata": {
        "id": "-HkhmKutDfq0",
        "colab_type": "code",
        "colab": {}
      },
      "source": [
        "genes = [\"ANKRD46\",\"C8orf37\",\"ABRA\",\"ANGPT1\", \"AZIN1\", \"BAALC\", \"ATP6V1C1\", \"CCNE2\",\n",
        "         \"COX6C\", \"CPQ\", \"CSMD3\", \"CTHRC1\", \"DCAF13\", \"DPY19L4\", \"EIF3E\", \"EMC2\",\n",
        "         \"ENY2\", \"ESRP1\", \"FBXO43\", \"FSBP\", \"FZD6\", \"GDF6\", \"GEM\", \"GRHL2\",\n",
        "         \"INTS8\", \"KCNV1\",\"KCNS2\", \"KLF10\",\"LAPTM4B\", \"MATN2\", \"MTDH\", \"NCALD\",\n",
        "         \"NDUFAF6\", \"NIPAL2\", \"NUDCD1\",\"ODF1\",\"PABPC1\", \"PKHD1L1\",\"PLEKHF2\",\"POLR2K\",\n",
        "         \"POP1\", \"PTDSS1\", \"RAD54B\", \"RIMS2\",\"RGS22\", \"RPL30\",\"RRM2B\", \"RSPO2\",\n",
        "         \"SDC2\", \"SLC25A32\", \"SNX31\", \"SPAG1\",\"SYBU\",\"TMEM74\",\"TP53INP1\",\"TRHR\",\n",
        "         \"TSPYL5\", \"UBR5\", \"UQCRB\",\"VPS13B\", \"YWHAZ\", \"ZNF706\"]"
      ],
      "execution_count": 0,
      "outputs": []
    },
    {
      "cell_type": "code",
      "metadata": {
        "id": "UNJDccFAF-EP",
        "colab_type": "code",
        "colab": {}
      },
      "source": [
        "gene_sets=['GO_Biological_Process_2018',\n",
        "          'GO_Cellular_Component_2018',\n",
        "          'GO_Molecular_Function_2018',\n",
        "           'NCI-Nature_2016',\n",
        "          'Reactome_2016',\n",
        "          'Wikipathways_2019_Human',\n",
        "          'KEGG_2019_Human']"
      ],
      "execution_count": 0,
      "outputs": []
    },
    {
      "cell_type": "code",
      "metadata": {
        "id": "maU30FGSpMRw",
        "colab_type": "code",
        "outputId": "73924a38-053e-49da-e52a-f0b38b2b9eda",
        "colab": {
          "base_uri": "https://localhost:8080/",
          "height": 159
        }
      },
      "source": [
        "gp.enrichr(gene_list=genes, description='Gene_Pathways', gene_sets=gene_sets, outdir='results')"
      ],
      "execution_count": 0,
      "outputs": [
        {
          "output_type": "stream",
          "text": [
            "2020-04-06 22:44:52,629 Warning: No enrich terms using library GO_Biological_Process_2018 when cutoff = 0.05\n",
            "2020-04-06 22:44:54,467 Warning: No enrich terms using library GO_Cellular_Component_2018 when cutoff = 0.05\n",
            "2020-04-06 22:44:56,328 Warning: No enrich terms using library GO_Molecular_Function_2018 when cutoff = 0.05\n",
            "2020-04-06 22:44:58,592 Warning: No enrich terms using library NCI-Nature_2016 when cutoff = 0.05\n",
            "2020-04-06 22:45:00,450 Warning: No enrich terms using library Reactome_2016 when cutoff = 0.05\n",
            "2020-04-06 22:45:02,283 Warning: No enrich terms using library KEGG_2019_Human when cutoff = 0.05\n"
          ],
          "name": "stderr"
        },
        {
          "output_type": "execute_result",
          "data": {
            "text/plain": [
              "<gseapy.enrichr.Enrichr at 0x7f99ff64d390>"
            ]
          },
          "metadata": {
            "tags": []
          },
          "execution_count": 9
        }
      ]
    }
  ]
}